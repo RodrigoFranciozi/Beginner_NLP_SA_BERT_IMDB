{
 "cells": [
  {
   "cell_type": "markdown",
   "id": "f5e3f1ae-8a2f-43d0-a752-b8a20ade7897",
   "metadata": {},
   "source": [
    "# 1. Library imports\n",
    "\n",
    "Make sure to install the ktrain package with the help of pip: `!pip install ktrain`"
   ]
  },
  {
   "cell_type": "markdown",
   "id": "f69baee8",
   "metadata": {},
   "source": [
    "The `ktrain` library is a lightweight wrapper for the deep learning library Keras. It provides an easier way to use TensorFlow and Keras for various tasks, including text classification, and it's particularly useful for working with BERT models. This cell provides instructions for installing `ktrain` using pip."
   ]
  },
  {
   "cell_type": "code",
   "execution_count": 1,
   "id": "18c03f9f-7416-492f-a680-5ed2ed991a0e",
   "metadata": {
    "tags": []
   },
   "outputs": [
    {
     "name": "stderr",
     "output_type": "stream",
     "text": [
      "/Library/Frameworks/Python.framework/Versions/3.11/lib/python3.11/site-packages/tqdm/auto.py:21: TqdmWarning: IProgress not found. Please update jupyter and ipywidgets. See https://ipywidgets.readthedocs.io/en/stable/user_install.html\n",
      "  from .autonotebook import tqdm as notebook_tqdm\n"
     ]
    }
   ],
   "source": [
    "# Import essential libraries\n",
    "# - pandas and numpy for data manipulation\n",
    "# - tensorflow for building and training neural network models\n",
    "# - ktrain for simplifying the use of TensorFlow and Keras\n",
    "# - certifi for handling SSL certificates\n",
    "# It takes some time to load it, since tensorflow and ktrain are a bit heavy\n",
    "\n",
    "import pandas as pd\n",
    "import numpy as np\n",
    "import tensorflow as tf\n",
    "import ktrain\n",
    "import os\n",
    "import certifi\n",
    "\n",
    "from ktrain import text"
   ]
  },
  {
   "cell_type": "code",
   "execution_count": 2,
   "id": "20e8142e-0abf-49ae-bc60-bfdd1149c098",
   "metadata": {
    "tags": []
   },
   "outputs": [],
   "source": [
    "# Configure the SSL certificate environment variable\n",
    "# This ensures secure data transfer when downloading datasets or other resources over HTTPS\n",
    "\n",
    "os.environ[\"SSL_CERT_FILE\"] = certifi.where()"
   ]
  },
  {
   "cell_type": "markdown",
   "id": "4b5491fa-f44f-4360-88fc-5b5b82fbe427",
   "metadata": {},
   "source": [
    "# 2. Data preprocessing"
   ]
  },
  {
   "cell_type": "markdown",
   "id": "cd6c6484",
   "metadata": {},
   "source": [
    "Data preprocessing is a crucial step in any machine learning pipeline, especially in text analysis. This section involves preparing and structuring the data before it's fed into the model. It includes tasks like loading the dataset, cleaning the text, tokenizing, and converting it into a format suitable for the BERT model."
   ]
  },
  {
   "cell_type": "code",
   "execution_count": 3,
   "id": "c42f1a8b-d0cc-4a1a-b9a5-2f9862c77a4e",
   "metadata": {
    "tags": []
   },
   "outputs": [
    {
     "name": "stdout",
     "output_type": "stream",
     "text": [
      "/Users/rodrigofranciozi/.keras/datasets/aclImdb_v1.tar.gz\n",
      "/Users/rodrigofranciozi/.keras/datasets/aclImdb\n",
      "CPU times: user 5.13 s, sys: 9.17 s, total: 14.3 s\n",
      "Wall time: 15.1 s\n"
     ]
    }
   ],
   "source": [
    "%%time\n",
    "\n",
    "# Load the imdb dataet (it also takes a bit of time)\n",
    "dataset = tf.keras.utils.get_file(\n",
    "    fname='aclImdb_v1.tar.gz',\n",
    "    origin='https://ai.stanford.edu/~amaas/data/sentiment/aclImdb_v1.tar.gz',\n",
    "    extract=True\n",
    ")\n",
    "\n",
    "data_dir = os.path.join(os.path.dirname(dataset), 'aclImdb')\n",
    "\n",
    "print(dataset)\n",
    "print(data_dir)"
   ]
  },
  {
   "cell_type": "code",
   "execution_count": 4,
   "id": "b0e6d3a4-77a3-48e2-962e-0b20b90b4081",
   "metadata": {
    "tags": []
   },
   "outputs": [
    {
     "name": "stdout",
     "output_type": "stream",
     "text": [
      "detected encoding: utf-8\n",
      "preprocessing train...\n",
      "language: en\n"
     ]
    },
    {
     "data": {
      "text/html": [
       "\n",
       "<style>\n",
       "    /* Turns off some styling */\n",
       "    progress {\n",
       "        /* gets rid of default border in Firefox and Opera. */\n",
       "        border: none;\n",
       "        /* Needs to be in here for Safari polyfill so background images work as expected. */\n",
       "        background-size: auto;\n",
       "    }\n",
       "    progress:not([value]), progress:not([value])::-webkit-progress-bar {\n",
       "        background: repeating-linear-gradient(45deg, #7e7e7e, #7e7e7e 10px, #5c5c5c 10px, #5c5c5c 20px);\n",
       "    }\n",
       "    .progress-bar-interrupted, .progress-bar-interrupted::-webkit-progress-bar {\n",
       "        background: #F44336;\n",
       "    }\n",
       "</style>\n"
      ],
      "text/plain": [
       "<IPython.core.display.HTML object>"
      ]
     },
     "metadata": {},
     "output_type": "display_data"
    },
    {
     "data": {
      "text/html": [
       "done."
      ],
      "text/plain": [
       "<IPython.core.display.HTML object>"
      ]
     },
     "metadata": {},
     "output_type": "display_data"
    },
    {
     "name": "stdout",
     "output_type": "stream",
     "text": [
      "Is Multi-Label? False\n",
      "preprocessing test...\n",
      "language: en\n"
     ]
    },
    {
     "data": {
      "text/html": [
       "\n",
       "<style>\n",
       "    /* Turns off some styling */\n",
       "    progress {\n",
       "        /* gets rid of default border in Firefox and Opera. */\n",
       "        border: none;\n",
       "        /* Needs to be in here for Safari polyfill so background images work as expected. */\n",
       "        background-size: auto;\n",
       "    }\n",
       "    progress:not([value]), progress:not([value])::-webkit-progress-bar {\n",
       "        background: repeating-linear-gradient(45deg, #7e7e7e, #7e7e7e 10px, #5c5c5c 10px, #5c5c5c 20px);\n",
       "    }\n",
       "    .progress-bar-interrupted, .progress-bar-interrupted::-webkit-progress-bar {\n",
       "        background: #F44336;\n",
       "    }\n",
       "</style>\n"
      ],
      "text/plain": [
       "<IPython.core.display.HTML object>"
      ]
     },
     "metadata": {},
     "output_type": "display_data"
    },
    {
     "data": {
      "text/html": [
       "done."
      ],
      "text/plain": [
       "<IPython.core.display.HTML object>"
      ]
     },
     "metadata": {},
     "output_type": "display_data"
    }
   ],
   "source": [
    "# Loading the training and testing sets\n",
    "(x_train, y_train), (x_test, y_test), preproc = text.texts_from_folder(datadir=data_dir,\n",
    "                                                                       classes=['pos', 'neg'],\n",
    "                                                                       maxlen=500,\n",
    "                                                                       train_test_names=['train', 'test'],\n",
    "                                                                       preprocess_mode='bert' # stantard preprocess mode for BERT\n",
    "                                                                      )"
   ]
  },
  {
   "cell_type": "markdown",
   "id": "2cc5622c-d02b-4bb9-bbd1-79297fc1a6d5",
   "metadata": {},
   "source": [
    "# 3. Building the BERT model"
   ]
  },
  {
   "cell_type": "code",
   "execution_count": 5,
   "id": "a5087e25-fa63-4185-9545-65f9a9cb9d25",
   "metadata": {},
   "outputs": [
    {
     "name": "stdout",
     "output_type": "stream",
     "text": [
      "Is Multi-Label? False\n",
      "maxlen is 500\n"
     ]
    },
    {
     "name": "stderr",
     "output_type": "stream",
     "text": [
      "/Library/Frameworks/Python.framework/Versions/3.11/lib/python3.11/site-packages/keras/src/initializers/initializers.py:120: UserWarning: The initializer GlorotNormal is unseeded and being called multiple times, which will return identical values each time (even if the initializer is unseeded). Please update your code to provide a seed to the initializer, or avoid using the same initializer instance more than once.\n",
      "  warnings.warn(\n"
     ]
    },
    {
     "name": "stdout",
     "output_type": "stream",
     "text": [
      "done.\n"
     ]
    }
   ],
   "source": [
    "model = text.text_classifier(\n",
    "    name='bert',\n",
    "    train_data=(x_train, y_train),\n",
    "    preproc=preproc\n",
    ")"
   ]
  },
  {
   "cell_type": "markdown",
   "id": "bcd76945-0afe-4573-9bea-49aa51883d87",
   "metadata": {},
   "source": [
    "# 4. Training the BERT model"
   ]
  },
  {
   "cell_type": "code",
   "execution_count": 6,
   "id": "79e295a2-e50f-402b-a6fa-d32784c3c8d0",
   "metadata": {
    "tags": []
   },
   "outputs": [],
   "source": [
    "learner = ktrain.get_learner(\n",
    "    model=model,\n",
    "    train_data=(x_train, y_train),\n",
    "    val_data=(x_test, y_test),\n",
    "    batch_size=6\n",
    ")"
   ]
  },
  {
   "cell_type": "code",
   "execution_count": 7,
   "id": "be796c72-95b1-4ff7-a12b-13bb8f4e0fbd",
   "metadata": {
    "tags": []
   },
   "outputs": [],
   "source": [
    "# Uncomment this to train the model (it takes a Loooooooooooooot of time)\n",
    "\n",
    "# learner.fit_onecycle(\n",
    "#     lr=2e-5,\n",
    "#     epochs=1\n",
    "# )"
   ]
  }
 ],
 "metadata": {
  "kernelspec": {
   "display_name": "Python 3 (ipykernel)",
   "language": "python",
   "name": "python3"
  },
  "language_info": {
   "codemirror_mode": {
    "name": "ipython",
    "version": 3
   },
   "file_extension": ".py",
   "mimetype": "text/x-python",
   "name": "python",
   "nbconvert_exporter": "python",
   "pygments_lexer": "ipython3",
   "version": "3.11.3"
  }
 },
 "nbformat": 4,
 "nbformat_minor": 5
}
